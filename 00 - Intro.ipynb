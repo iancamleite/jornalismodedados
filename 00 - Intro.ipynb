{
 "cells": [
  {
   "cell_type": "code",
   "execution_count": 1,
   "metadata": {},
   "outputs": [],
   "source": [
    "import pandas as pd"
   ]
  },
  {
   "cell_type": "code",
   "execution_count": 2,
   "metadata": {},
   "outputs": [],
   "source": [
    "from pandas import Series, DataFrame"
   ]
  },
  {
   "cell_type": "code",
   "execution_count": 3,
   "metadata": {},
   "outputs": [
    {
     "name": "stdout",
     "output_type": "stream",
     "text": [
      "[{'Title': 'Chapter One: MADMAX', 'Released': '2017-10-27', 'Episode': '1', 'imdbRating': '8.4', 'imdbID': 'tt6020684'}, {'Title': 'Chapter Two: Trick or Treat, Freak', 'Released': '2017-10-27', 'Episode': '2', 'imdbRating': '8.5', 'imdbID': 'tt6020792'}, {'Title': 'Chapter Three: The Pollywog', 'Released': '2017-10-27', 'Episode': '3', 'imdbRating': '8.7', 'imdbID': 'tt6020796'}, {'Title': 'Chapter Four: Will the Wise', 'Released': '2017-10-27', 'Episode': '4', 'imdbRating': '8.7', 'imdbID': 'tt6020802'}, {'Title': 'Chapter Five: Dig Dug', 'Released': '2017-10-27', 'Episode': '5', 'imdbRating': '8.9', 'imdbID': 'tt6020806'}, {'Title': 'Chapter Six: The Spy', 'Released': '2017-10-27', 'Episode': '6', 'imdbRating': '9.2', 'imdbID': 'tt6020808'}, {'Title': 'Chapter Seven: The Lost Sister', 'Released': '2017-10-27', 'Episode': '7', 'imdbRating': '6.2', 'imdbID': 'tt6020810'}, {'Title': 'Chapter Eight: The Mind Flayer', 'Released': '2017-10-27', 'Episode': '8', 'imdbRating': '9.3', 'imdbID': 'tt6020812'}, {'Title': 'Chapter Nine: The Gate', 'Released': '2017-10-27', 'Episode': '9', 'imdbRating': '9.5', 'imdbID': 'tt6020876'}]\n"
     ]
    }
   ],
   "source": [
    "import requests\n",
    "import json\n",
    "url = 'http://www.omdbapi.com/?t=Stranger Things&Season=2&apikey=a3bc5cc9'\n",
    "data = requests.get(url).content\n",
    "data = json.loads(data)\n",
    "print (data['Episodes'])"
   ]
  },
  {
   "cell_type": "code",
   "execution_count": 4,
   "metadata": {},
   "outputs": [
    {
     "name": "stdout",
     "output_type": "stream",
     "text": [
      "  Episode    Released                               Title     imdbID  \\\n",
      "0       1  2017-10-27                 Chapter One: MADMAX  tt6020684   \n",
      "1       2  2017-10-27  Chapter Two: Trick or Treat, Freak  tt6020792   \n",
      "2       3  2017-10-27         Chapter Three: The Pollywog  tt6020796   \n",
      "3       4  2017-10-27         Chapter Four: Will the Wise  tt6020802   \n",
      "4       5  2017-10-27               Chapter Five: Dig Dug  tt6020806   \n",
      "5       6  2017-10-27                Chapter Six: The Spy  tt6020808   \n",
      "6       7  2017-10-27      Chapter Seven: The Lost Sister  tt6020810   \n",
      "7       8  2017-10-27      Chapter Eight: The Mind Flayer  tt6020812   \n",
      "8       9  2017-10-27              Chapter Nine: The Gate  tt6020876   \n",
      "\n",
      "  imdbRating  \n",
      "0        8.4  \n",
      "1        8.5  \n",
      "2        8.7  \n",
      "3        8.7  \n",
      "4        8.9  \n",
      "5        9.2  \n",
      "6        6.2  \n",
      "7        9.3  \n",
      "8        9.5  \n"
     ]
    }
   ],
   "source": [
    "df = pd.DataFrame(data['Episodes'])\n",
    "print (df)"
   ]
  },
  {
   "cell_type": "code",
   "execution_count": null,
   "metadata": {},
   "outputs": [],
   "source": []
  }
 ],
 "metadata": {
  "kernelspec": {
   "display_name": "Python 3",
   "language": "python",
   "name": "python3"
  },
  "language_info": {
   "codemirror_mode": {
    "name": "ipython",
    "version": 3
   },
   "file_extension": ".py",
   "mimetype": "text/x-python",
   "name": "python",
   "nbconvert_exporter": "python",
   "pygments_lexer": "ipython3",
   "version": "3.6.2"
  }
 },
 "nbformat": 4,
 "nbformat_minor": 2
}
