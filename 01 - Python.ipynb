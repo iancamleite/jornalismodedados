{
 "cells": [
  {
   "cell_type": "markdown",
   "metadata": {},
   "source": [
    "## Caderno dos Slides\n",
    "[Slides Python](https://github.com/iancamleite/jornalismodedados/blob/master/Escola%20de%20Dados%20-%20Programacao%20para%20Jornalistas.pdf)"
   ]
  },
  {
   "cell_type": "markdown",
   "metadata": {},
   "source": [
    "Estamos usando o **python3** neste curso.\n",
    "Caso queira instalar o Anaconda para utilizar o Jupyter Notebook no seu computador, visite: https://www.anaconda.com/distribution/"
   ]
  },
  {
   "cell_type": "markdown",
   "metadata": {},
   "source": [
    "Dicas de podcasts: \n",
    "* [Coluna7](https://open.spotify.com/show/6yDVxOBnkzwlOfcWyI8M1i?si=7C_cz2tgQ_GWQHCU_0eW8g)\n",
    "* [Pizza de dados](https://open.spotify.com/show/5k0Ei0MSg5BuiHshr43aSg?si=ALShJnmGQcCT3pqeGm6v_A)\n"
   ]
  },
  {
   "cell_type": "markdown",
   "metadata": {},
   "source": [
    "Dicas de jornalistas de dados:\n",
    "* https://github.com/juditecypreste https://judite.dev/\n",
    "* https://github.com/turicas\n",
    "* http://mjwebster.github.io/DataJ/\n",
    "* https://github.com/infoculture/awesome-datajournalism\n"
   ]
  },
  {
   "cell_type": "markdown",
   "metadata": {},
   "source": [
    "##  Python <3"
   ]
  },
  {
   "cell_type": "markdown",
   "metadata": {},
   "source": [
    "Os arquivos python tem a extensão **.py**, ou seja, o nome do arquivo termina em **.py**. Como estamos trabalhando no Jupyter Notebook, escrevemos códigos python dentro das células mas também podems escrever texto. Portanto, a extensão do nosso aquivo é **.ipynb**. É possível exportar seu código para .py no menu superior do Jupyter Notebook, em Arquivo > Download."
   ]
  },
  {
   "cell_type": "markdown",
   "metadata": {},
   "source": [
    "### Primeiro programa: "
   ]
  },
  {
   "cell_type": "code",
   "execution_count": 1,
   "metadata": {},
   "outputs": [
    {
     "name": "stdout",
     "output_type": "stream",
     "text": [
      "Primeira mensagem!\n"
     ]
    }
   ],
   "source": [
    "print(\"Primeira mensagem!\")"
   ]
  },
  {
   "cell_type": "markdown",
   "metadata": {},
   "source": [
    "Chamamos a função **print** usando como argumento(input) a **string** \"Primeira mensagem!\". "
   ]
  },
  {
   "cell_type": "markdown",
   "metadata": {},
   "source": [
    "O python não diferencia aspas simples ' de duplas \", ambas formam uma string."
   ]
  },
  {
   "cell_type": "markdown",
   "metadata": {},
   "source": [
    "### Tipos de dados básicos\n",
    "* **str** - string/texto, delimitado por aspas\n",
    "* **int** - números inteiros, sem casa decimal\n",
    "* **float** - números com casas decimais, mesmo que seja zero (ex: 1.0)\n",
    "* **bool** - indica o valor booleano ou binário, True ou False"
   ]
  },
  {
   "cell_type": "code",
   "execution_count": 2,
   "metadata": {
    "scrolled": true
   },
   "outputs": [
    {
     "data": {
      "text/plain": [
       "bool"
      ]
     },
     "execution_count": 2,
     "metadata": {},
     "output_type": "execute_result"
    }
   ],
   "source": [
    "type(True)"
   ]
  },
  {
   "cell_type": "code",
   "execution_count": 3,
   "metadata": {},
   "outputs": [
    {
     "data": {
      "text/plain": [
       "float"
      ]
     },
     "execution_count": 3,
     "metadata": {},
     "output_type": "execute_result"
    }
   ],
   "source": [
    "type(1.0)"
   ]
  },
  {
   "cell_type": "code",
   "execution_count": 4,
   "metadata": {
    "scrolled": true
   },
   "outputs": [
    {
     "data": {
      "text/plain": [
       "int"
      ]
     },
     "execution_count": 4,
     "metadata": {},
     "output_type": "execute_result"
    }
   ],
   "source": [
    "type(234567)"
   ]
  },
  {
   "cell_type": "code",
   "execution_count": 5,
   "metadata": {
    "scrolled": true
   },
   "outputs": [
    {
     "data": {
      "text/plain": [
       "str"
      ]
     },
     "execution_count": 5,
     "metadata": {},
     "output_type": "execute_result"
    }
   ],
   "source": [
    "type('python é ótimo!!!!!!!!!')"
   ]
  },
  {
   "cell_type": "markdown",
   "metadata": {},
   "source": [
    "### Variáveis\n",
    "* Variáveis são utilizadas para armazenar valores e para dar nome a uma área da memória do computador.\n",
    "* O símbolo para atribuição é o igual (=)."
   ]
  },
  {
   "cell_type": "code",
   "execution_count": 6,
   "metadata": {},
   "outputs": [],
   "source": [
    "nome = 'Fernando'"
   ]
  },
  {
   "cell_type": "code",
   "execution_count": 7,
   "metadata": {},
   "outputs": [
    {
     "name": "stdout",
     "output_type": "stream",
     "text": [
      "Fernando\n"
     ]
    }
   ],
   "source": [
    "print(nome)"
   ]
  },
  {
   "cell_type": "code",
   "execution_count": 8,
   "metadata": {
    "scrolled": true
   },
   "outputs": [
    {
     "data": {
      "text/plain": [
       "str"
      ]
     },
     "execution_count": 8,
     "metadata": {},
     "output_type": "execute_result"
    }
   ],
   "source": [
    "type(nome)"
   ]
  },
  {
   "cell_type": "code",
   "execution_count": 9,
   "metadata": {},
   "outputs": [],
   "source": [
    "resposta = 42"
   ]
  },
  {
   "cell_type": "code",
   "execution_count": 10,
   "metadata": {},
   "outputs": [
    {
     "name": "stdout",
     "output_type": "stream",
     "text": [
      "42\n"
     ]
    }
   ],
   "source": [
    "print(resposta)"
   ]
  },
  {
   "cell_type": "code",
   "execution_count": 11,
   "metadata": {},
   "outputs": [
    {
     "data": {
      "text/plain": [
       "int"
      ]
     },
     "execution_count": 11,
     "metadata": {},
     "output_type": "execute_result"
    }
   ],
   "source": [
    "type(resposta)"
   ]
  },
  {
   "cell_type": "markdown",
   "metadata": {},
   "source": [
    "### Listas"
   ]
  },
  {
   "cell_type": "markdown",
   "metadata": {},
   "source": [
    "Observe o seguinte edifício de apartamentos:"
   ]
  },
  {
   "cell_type": "code",
   "execution_count": 12,
   "metadata": {},
   "outputs": [],
   "source": [
    "edificio_terreo = 'Família Souza'\n",
    "edifico_1o_andar = 'Família Brito'\n",
    "edificio_2o_andar = 'Sr Jorge'\n",
    "edificio_3o_andar = 'Família Tanaka'"
   ]
  },
  {
   "cell_type": "markdown",
   "metadata": {},
   "source": [
    "O nome de cada família está guardado numa variável. E se pudéssemos guardar todas as famílias em uma variável, mantendo a ordem dos andares?"
   ]
  },
  {
   "cell_type": "code",
   "execution_count": 13,
   "metadata": {},
   "outputs": [],
   "source": [
    "edificio = ['Família Souza', 'Família Brito', 'Sr Jorge', 'Família Tanaka']"
   ]
  },
  {
   "cell_type": "markdown",
   "metadata": {},
   "source": [
    "Dessa forma, temos o trem de dados, onde cada vagão guarda uma informação. "
   ]
  },
  {
   "cell_type": "markdown",
   "metadata": {},
   "source": [
    "Na posição zero, temos a família do térreo:"
   ]
  },
  {
   "cell_type": "code",
   "execution_count": 14,
   "metadata": {},
   "outputs": [
    {
     "name": "stdout",
     "output_type": "stream",
     "text": [
      "Família Souza\n"
     ]
    }
   ],
   "source": [
    "print(edificio[0])"
   ]
  },
  {
   "cell_type": "markdown",
   "metadata": {},
   "source": [
    "Na posição 1, a família do primeiro andar:"
   ]
  },
  {
   "cell_type": "code",
   "execution_count": 15,
   "metadata": {
    "scrolled": false
   },
   "outputs": [
    {
     "name": "stdout",
     "output_type": "stream",
     "text": [
      "Família Brito\n"
     ]
    }
   ],
   "source": [
    "print(edificio[1])"
   ]
  },
  {
   "cell_type": "markdown",
   "metadata": {},
   "source": [
    "E assim por diante:"
   ]
  },
  {
   "cell_type": "code",
   "execution_count": 16,
   "metadata": {
    "scrolled": true
   },
   "outputs": [
    {
     "name": "stdout",
     "output_type": "stream",
     "text": [
      "Sr Jorge\n",
      "Família Tanaka\n"
     ]
    }
   ],
   "source": [
    "print(edificio[2])\n",
    "print(edificio[3])"
   ]
  },
  {
   "cell_type": "markdown",
   "metadata": {},
   "source": [
    "Se chamarmos print(edificio[4]), teremos um erro de índice, pois a lista só tem 4 elementos, indo do índice 0 ao índice 3. \"IndexError: list index out of range\". "
   ]
  },
  {
   "cell_type": "markdown",
   "metadata": {},
   "source": [
    "Os índices em python sempre começam do zero e terminam no número de componentes menos 1."
   ]
  },
  {
   "cell_type": "code",
   "execution_count": 17,
   "metadata": {},
   "outputs": [
    {
     "name": "stdout",
     "output_type": "stream",
     "text": [
      "4\n"
     ]
    }
   ],
   "source": [
    "size = len(edificio)\n",
    "print(size)"
   ]
  },
  {
   "cell_type": "code",
   "execution_count": 18,
   "metadata": {
    "scrolled": true
   },
   "outputs": [
    {
     "name": "stdout",
     "output_type": "stream",
     "text": [
      "Família Tanaka\n"
     ]
    }
   ],
   "source": [
    "print(edificio[size-1])"
   ]
  },
  {
   "cell_type": "markdown",
   "metadata": {},
   "source": [
    "Podemos acessar os últimos itens da lista usando índices negativos."
   ]
  },
  {
   "cell_type": "code",
   "execution_count": 19,
   "metadata": {
    "scrolled": true
   },
   "outputs": [
    {
     "name": "stdout",
     "output_type": "stream",
     "text": [
      "Família Tanaka\n",
      "Sr Jorge\n"
     ]
    }
   ],
   "source": [
    "print(edificio[-1])\n",
    "print(edificio[-2])"
   ]
  },
  {
   "cell_type": "markdown",
   "metadata": {},
   "source": [
    "### Operadores relacionais\n",
    "Usados quando queremos comparar valores. Podemos utilizá-los para inicializar variáveis do tipo lógico/bool/binário."
   ]
  },
  {
   "cell_type": "code",
   "execution_count": 20,
   "metadata": {},
   "outputs": [],
   "source": [
    "nota = 8\n",
    "media = 6"
   ]
  },
  {
   "cell_type": "code",
   "execution_count": 21,
   "metadata": {
    "scrolled": true
   },
   "outputs": [
    {
     "name": "stdout",
     "output_type": "stream",
     "text": [
      "True\n"
     ]
    }
   ],
   "source": [
    "aprovado = nota >= media\n",
    "print(aprovado)"
   ]
  },
  {
   "cell_type": "code",
   "execution_count": 22,
   "metadata": {},
   "outputs": [],
   "source": [
    "nota_2 = 6\n",
    "nota_3 = 3"
   ]
  },
  {
   "cell_type": "code",
   "execution_count": 23,
   "metadata": {},
   "outputs": [
    {
     "name": "stdout",
     "output_type": "stream",
     "text": [
      "True\n",
      "False\n"
     ]
    }
   ],
   "source": [
    "print(nota_2 >= media)\n",
    "print(nota_3 >= media)"
   ]
  },
  {
   "cell_type": "markdown",
   "metadata": {},
   "source": [
    "### Operadores lógicos: and, or, not\n",
    "A condição para empréstimo de compra de uma moto é salário maior que R$ 1.000,00 e idade acima de 18 anos. Verificar se o José pode pegar o empréstimo."
   ]
  },
  {
   "cell_type": "code",
   "execution_count": 24,
   "metadata": {},
   "outputs": [],
   "source": [
    "salario = 500.0\n",
    "idade = 20"
   ]
  },
  {
   "cell_type": "code",
   "execution_count": 25,
   "metadata": {},
   "outputs": [],
   "source": [
    "emprestimo = salario > 1000 and idade > 18"
   ]
  },
  {
   "cell_type": "code",
   "execution_count": 26,
   "metadata": {
    "scrolled": false
   },
   "outputs": [
    {
     "name": "stdout",
     "output_type": "stream",
     "text": [
      "False\n"
     ]
    }
   ],
   "source": [
    "print(emprestimo)"
   ]
  },
  {
   "cell_type": "markdown",
   "metadata": {},
   "source": [
    "Ele satisfez a condição da idade, mas não satisfez todas as condições. Por isso, não está apto a pegar o empréstimo."
   ]
  },
  {
   "cell_type": "markdown",
   "metadata": {},
   "source": [
    "### Entrada de dados\n",
    "Até agora nossos programas trabalharam com valores conhecidos. <br>\n",
    "Vamos começar a pegar os valores durante a execução dos programas."
   ]
  },
  {
   "cell_type": "code",
   "execution_count": 27,
   "metadata": {
    "scrolled": true
   },
   "outputs": [
    {
     "name": "stdout",
     "output_type": "stream",
     "text": [
      "nome: ianca\n"
     ]
    }
   ],
   "source": [
    "nome = input('nome: ')"
   ]
  },
  {
   "cell_type": "code",
   "execution_count": 28,
   "metadata": {
    "scrolled": true
   },
   "outputs": [
    {
     "name": "stdout",
     "output_type": "stream",
     "text": [
      "Olá  ianca\n"
     ]
    }
   ],
   "source": [
    "print('Olá ', nome)"
   ]
  },
  {
   "cell_type": "markdown",
   "metadata": {},
   "source": [
    "### Conversão de dados\n",
    "A função input retorna apenas strings. <br>\n",
    "Usamos as funções int( ) para converter um valor para inteiro e float ( ) para ponto\n",
    "flutuante."
   ]
  },
  {
   "cell_type": "code",
   "execution_count": 29,
   "metadata": {
    "scrolled": true
   },
   "outputs": [
    {
     "name": "stdout",
     "output_type": "stream",
     "text": [
      "idade: 22\n"
     ]
    }
   ],
   "source": [
    "idade = int(input('idade: '))"
   ]
  },
  {
   "cell_type": "code",
   "execution_count": 30,
   "metadata": {
    "scrolled": true
   },
   "outputs": [
    {
     "name": "stdout",
     "output_type": "stream",
     "text": [
      "sua idade:  22\n"
     ]
    }
   ],
   "source": [
    "print('sua idade: ', idade)"
   ]
  },
  {
   "cell_type": "markdown",
   "metadata": {},
   "source": [
    "### Condições\n",
    "Seus programas nem sempre serão seqüências simples de comandos. <br>\n",
    "Passar pelas linhas de um programa é como andar de carro numa cidade, existem pontos onde decidimos qual caminho escolher."
   ]
  },
  {
   "cell_type": "markdown",
   "metadata": {},
   "source": [
    "IF significa SE..."
   ]
  },
  {
   "cell_type": "markdown",
   "metadata": {},
   "source": [
    "Vamos verificar quem é mais velho, vc ou seu amigo."
   ]
  },
  {
   "cell_type": "code",
   "execution_count": 31,
   "metadata": {
    "scrolled": true
   },
   "outputs": [
    {
     "name": "stdout",
     "output_type": "stream",
     "text": [
      "sua idade: 22\n",
      "idade do/a seu/sua amigo/a: 33\n",
      "Você é mais novo\n"
     ]
    }
   ],
   "source": [
    "a = int(input(\"sua idade: \"))\n",
    "b = int(input('idade do/a seu/sua amigo/a: '))\n",
    "\n",
    "if a > b:\n",
    "    print('Você é mais velho')\n",
    "if b > a:\n",
    "    print('Você é mais novo')"
   ]
  },
  {
   "cell_type": "markdown",
   "metadata": {},
   "source": [
    "Vamos verificar se um carro é velho ou novo. Digamos que se tiver mais de três anos é velho."
   ]
  },
  {
   "cell_type": "code",
   "execution_count": 32,
   "metadata": {},
   "outputs": [
    {
     "name": "stdout",
     "output_type": "stream",
     "text": [
      "Digite a idade do seu carro: 5\n",
      "seu carro é velho!\n"
     ]
    }
   ],
   "source": [
    "idade = int(input('Digite a idade do seu carro: '))\n",
    "\n",
    "if idade <=3:\n",
    "    print('seu carro é novo!')\n",
    "if idade > 3:\n",
    "    print('seu carro é velho!')"
   ]
  },
  {
   "cell_type": "markdown",
   "metadata": {},
   "source": [
    "ELSE significa SE NÃO... É executada quando a condição do if não é antendida. Não existe ELSE sem IF. <br>\n",
    "Vamos replicar o exemplo do carro usando else."
   ]
  },
  {
   "cell_type": "code",
   "execution_count": 33,
   "metadata": {},
   "outputs": [
    {
     "name": "stdout",
     "output_type": "stream",
     "text": [
      "Digite a idade do seu carro: 4\n",
      "seu carro é velho!\n"
     ]
    }
   ],
   "source": [
    "idade = int(input('Digite a idade do seu carro: '))\n",
    "\n",
    "if idade <=3:\n",
    "    print('seu carro é novo!')\n",
    "else:\n",
    "    print('seu carro é velho!')"
   ]
  },
  {
   "cell_type": "markdown",
   "metadata": {},
   "source": [
    "### Loop\n",
    "Muitas vezes você quer checar uma condição e quer continuar fazendo uma ação até que a condição seja atendida. <br> \n",
    "Vamos supor que você quer juntar dinheiro para viajar. Quando você juntar 500 reais, você vai comprar sua passagem. Todo mês você vai juntar 50 reais, até conseguir."
   ]
  },
  {
   "cell_type": "code",
   "execution_count": 34,
   "metadata": {},
   "outputs": [
    {
     "name": "stdout",
     "output_type": "stream",
     "text": [
      "Quanto dinheiro você já tem? 22\n",
      "Seu saldo ainda é 22 junte mais um mês!\n",
      "Seu saldo ainda é 72 junte mais um mês!\n",
      "Seu saldo ainda é 122 junte mais um mês!\n",
      "Seu saldo ainda é 172 junte mais um mês!\n",
      "Seu saldo ainda é 222 junte mais um mês!\n",
      "Seu saldo ainda é 272 junte mais um mês!\n",
      "Seu saldo ainda é 322 junte mais um mês!\n",
      "Seu saldo ainda é 372 junte mais um mês!\n",
      "Seu saldo ainda é 422 junte mais um mês!\n",
      "Seu saldo ainda é 472 junte mais um mês!\n",
      "Você conseguiu juntar 522 em 10 meses!\n"
     ]
    }
   ],
   "source": [
    "saldo_inicial = int(input('Quanto dinheiro você já tem? '))\n",
    "saldo = saldo_inicial\n",
    "\n",
    "mes = 0\n",
    "\n",
    "while saldo < 500:\n",
    "    print('Seu saldo ainda é ' + str(saldo) + ' junte mais um mês!')\n",
    "    saldo = saldo + 50\n",
    "    mes = mes + 1\n",
    "print('Você conseguiu juntar ' + str(saldo) + ' em ' + str(mes) + ' meses!')"
   ]
  },
  {
   "cell_type": "markdown",
   "metadata": {},
   "source": [
    "## Revisar tudo fazendo um jogo!!"
   ]
  },
  {
   "cell_type": "markdown",
   "metadata": {},
   "source": [
    "Vamos fazer um jogo de adivinhar um número inteiro, que o computador irá escolher, entre 1 e 100."
   ]
  },
  {
   "cell_type": "code",
   "execution_count": 35,
   "metadata": {},
   "outputs": [
    {
     "name": "stdout",
     "output_type": "stream",
     "text": [
      "Bem vindo\n",
      "Chute um número: 33\n",
      "Você perdeu!\n",
      "Fim do jogo\n"
     ]
    }
   ],
   "source": [
    "print('Bem vindo')\n",
    "c = input('Chute um número: ')\n",
    "chute = int(c)\n",
    "\n",
    "if chute == 42:\n",
    "    print('Você venceu!')\n",
    "else: \n",
    "    print('Você perdeu!')\n",
    "          \n",
    "print('Fim do jogo')"
   ]
  },
  {
   "cell_type": "markdown",
   "metadata": {},
   "source": [
    "O programa somente diz se acertou ou não. <br>\n",
    "Para ajudar você dirá “Chutou alto” ou “Chutou baixo” caso a pessoa erre."
   ]
  },
  {
   "cell_type": "code",
   "execution_count": 36,
   "metadata": {},
   "outputs": [
    {
     "name": "stdout",
     "output_type": "stream",
     "text": [
      "Bem vindo\n",
      "Chute um número: 33\n",
      "Chutou baixo\n",
      "Fim do jogo\n"
     ]
    }
   ],
   "source": [
    "print('Bem vindo')\n",
    "c = input('Chute um número: ')\n",
    "chute = int(c)\n",
    "\n",
    "if chute == 42: \n",
    "    print('Você venceu!')\n",
    "else: \n",
    "    if chute > 42:\n",
    "        print('Chutou alto!')\n",
    "    else: \n",
    "        print('Chutou baixo')\n",
    "        \n",
    "print('Fim do jogo')"
   ]
  },
  {
   "cell_type": "markdown",
   "metadata": {},
   "source": [
    "Os usuários ainda não gostam. <br>\n",
    "Só um chute por vez? Não posso chutar de novo se eu errar?"
   ]
  },
  {
   "cell_type": "code",
   "execution_count": 37,
   "metadata": {},
   "outputs": [
    {
     "name": "stdout",
     "output_type": "stream",
     "text": [
      "Bem vindo\n",
      "Chute um número: 33\n",
      "Chutou baixo\n",
      "Chute um número: 42\n",
      "Você venceu!\n",
      "Fim do jogo\n"
     ]
    }
   ],
   "source": [
    "print('Bem vindo')\n",
    "\n",
    "chute = 0 \n",
    "\n",
    "while chute != 42:\n",
    "    c = input('Chute um número: ')\n",
    "    chute = int(c)\n",
    "\n",
    "    if chute == 42: \n",
    "        print('Você venceu!')\n",
    "    else: \n",
    "        if chute > 42:\n",
    "            print('Chutou alto!')\n",
    "        else: \n",
    "            print('Chutou baixo')\n",
    "        \n",
    "print('Fim do jogo')"
   ]
  },
  {
   "cell_type": "markdown",
   "metadata": {},
   "source": [
    "Os usuários ainda não gostaram. <br>\n",
    "Sempre é 42???? <br> <br> \n",
    "Vamos sortear o número a ser adivinhado usando uma biblioteca de sorteio!"
   ]
  },
  {
   "cell_type": "code",
   "execution_count": 38,
   "metadata": {},
   "outputs": [
    {
     "name": "stdout",
     "output_type": "stream",
     "text": [
      "Bem vindo\n",
      "Chute um número: 33\n",
      "Chutou baixo.\n",
      "Chute um número: 66\n",
      "Chutou baixo.\n",
      "Chute um número: 88\n",
      "Chutou alto!\n",
      "Chute um número: 70\n",
      "Chutou baixo.\n",
      "Chute um número: 76\n",
      "Chutou baixo.\n",
      "Chute um número: 80\n",
      "Chutou baixo.\n",
      "Chute um número: 83\n",
      "Chutou baixo.\n",
      "Chute um número: 84\n",
      "Você venceu!\n",
      "Fim do jogo\n"
     ]
    }
   ],
   "source": [
    "from random import randint\n",
    "\n",
    "print('Bem vindo')\n",
    "\n",
    "sorteado = randint(1,100) # Sorteia um número entre 1 e 100\n",
    "\n",
    "chute = 0 \n",
    "\n",
    "while chute != sorteado:\n",
    "    c = input('Chute um número: ')\n",
    "    chute = int(c)\n",
    "\n",
    "    if chute == sorteado: \n",
    "        print('Você venceu!')\n",
    "    else: \n",
    "        if chute > sorteado:\n",
    "            print('Chutou alto!')\n",
    "        else: \n",
    "            print('Chutou baixo.')\n",
    "        \n",
    "print('Fim do jogo')"
   ]
  },
  {
   "cell_type": "markdown",
   "metadata": {},
   "source": [
    "Agora sim! Não importa o quanto eu jogue, sempre terei um número novo..."
   ]
  },
  {
   "cell_type": "code",
   "execution_count": null,
   "metadata": {},
   "outputs": [],
   "source": []
  }
 ],
 "metadata": {
  "kernelspec": {
   "display_name": "Python 3",
   "language": "python",
   "name": "python3"
  },
  "language_info": {
   "codemirror_mode": {
    "name": "ipython",
    "version": 3
   },
   "file_extension": ".py",
   "mimetype": "text/x-python",
   "name": "python",
   "nbconvert_exporter": "python",
   "pygments_lexer": "ipython3",
   "version": "3.6.2"
  }
 },
 "nbformat": 4,
 "nbformat_minor": 2
}
